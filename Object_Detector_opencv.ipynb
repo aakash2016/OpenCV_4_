{
 "cells": [
  {
   "cell_type": "code",
   "execution_count": 2,
   "metadata": {},
   "outputs": [],
   "source": [
    "import cv2\n",
    "import numpy as np\n",
    "\n",
    "## The different categories in which pre trained model was trained..\n",
    "cat = ['background', 'aeroplane', 'bicycle', 'bird', 'boat', 'bottle', 'bus', 'car','cat', 'chair', 'cow',\n",
    "       'diningtable', 'dog', 'horse', 'motorbike', 'person', 'pottedplant', 'sheep', 'sofa', 'train', 'tvmonitor']\n",
    "\n",
    "def detect_obj_and_draw_boxes(net, image): ## params: a neural net and an image on which we wanna run the detection\n",
    "    h, w = image.shape[:2]\n",
    "    resized = cv2.resize(image, (300,300)) ## because our caffe model was trained on 300,300 images.\n",
    "    blob = cv2.dnn.blobFromImage(resized, 0.007843, (300,300), 127.5) ## just a Preprocessing step.\n",
    "    \n",
    "    # feed the blob as input to our deep learning model.\n",
    "    net.setInput(blob)\n",
    "    detections = net.forward()[0][0]\n",
    "    \n",
    "    ## Loop over the detections\n",
    "    for i in range(len(detections)):\n",
    "        ## format of Each detection- [0, predicted category, confidence_value, x1, y1, x2, y2]\n",
    "        confidence = round(detections[i][2]*100, 2)\n",
    "        cat_idx = int(detections[i][1])\n",
    "        \n",
    "        # Confidence threshold:\n",
    "        if confidence > 60:\n",
    "            # scale up the box coordinates.\n",
    "            box = detections[i][3:]*np.array([w, h, w, h]) \n",
    "            \n",
    "            #covert them to int \n",
    "            (x1, y1, x2, y2) = box.astype('int')\n",
    "            obj_name = cat[cat_idx]\n",
    "            display = obj_name + ':' + str(confidence) + '%'\n",
    "            cv2.rectangle(image, (x1, y1), (x2, y2), (0,0,255), 4)\n",
    "            font = cv2.FONT_HERSHEY_SIMPLEX\n",
    "            cv2.putText(image, display, (x1, y1), font, 1, (0,255,0), 2)"
   ]
  },
  {
   "cell_type": "code",
   "execution_count": 3,
   "metadata": {},
   "outputs": [
    {
     "data": {
      "text/plain": [
       "113"
      ]
     },
     "execution_count": 3,
     "metadata": {},
     "output_type": "execute_result"
    }
   ],
   "source": [
    "test_image = cv2.imread('/home/aakash/caffeee.jpg')\n",
    "file_type = None\n",
    "\n",
    "# Load the caffe model\n",
    "model_name = '/home/aakash/opencv-4/object-detection-deep-learning/MobileNetSSD_deploy.caffemodel'\n",
    "model_proto = '/home/aakash/opencv-4/object-detection-deep-learning/MobileNetSSD_deploy.prototxt.txt'\n",
    "net = cv2.dnn.readNetFromCaffe(model_proto, model_name)\n",
    "\n",
    "detect_obj_and_draw_boxes(net, test_image)\n",
    "\n",
    "cv2.imshow('image', test_image)\n",
    "cv2.waitKey(0)"
   ]
  }
 ],
 "metadata": {
  "kernelspec": {
   "display_name": "Python 3",
   "language": "python",
   "name": "python3"
  },
  "language_info": {
   "codemirror_mode": {
    "name": "ipython",
    "version": 3
   },
   "file_extension": ".py",
   "mimetype": "text/x-python",
   "name": "python",
   "nbconvert_exporter": "python",
   "pygments_lexer": "ipython3",
   "version": "3.6.4"
  }
 },
 "nbformat": 4,
 "nbformat_minor": 2
}
