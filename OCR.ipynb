{
 "cells": [
  {
   "cell_type": "code",
   "execution_count": 2,
   "metadata": {},
   "outputs": [
    {
     "name": "stderr",
     "output_type": "stream",
     "text": [
      "/home/aakash/miniconda3/envs/datapysci/lib/python3.6/site-packages/skimage/feature/_hog.py:119: skimage_deprecation: Default value of `block_norm`==`L1` is deprecated and will be changed to `L2-Hys` in v0.15\n",
      "  'be changed to `L2-Hys` in v0.15', skimage_deprecation)\n"
     ]
    },
    {
     "name": "stdout",
     "output_type": "stream",
     "text": [
      "Accuracy Score 0.8873333333333333\n"
     ]
    },
    {
     "data": {
      "text/plain": [
       "['/home/aakash/opencv-4/digit_classifier_knn.model']"
      ]
     },
     "execution_count": 2,
     "metadata": {},
     "output_type": "execute_result"
    }
   ],
   "source": [
    "## Train \n",
    "# Loading various libraries..\n",
    "import cv2\n",
    "import numpy as np\n",
    "from skimage.feature import hog\n",
    "from sklearn.metrics import accuracy_score\n",
    "from sklearn.neighbors import KNeighborsClassifier\n",
    "from sklearn.externals import joblib\n",
    "from sklearn.model_selection import train_test_split\n",
    "\n",
    "# Reading the dataset image\n",
    "img = cv2.imread('/home/aakash/opencv-4/digits.png')\n",
    "gray = cv2.cvtColor(img, cv2.COLOR_BGR2GRAY)\n",
    "\n",
    "## Breakup the image into individual digits..\n",
    "cells = [np.hsplit(row, 100) for row in np.vsplit(gray, 50)]\n",
    "\n",
    "## Compute the HOG features for each digit and make a dataset.\n",
    "dataset = []\n",
    "for i in range(50):\n",
    "    for j in range(100):\n",
    "        feature = hog(cells[i][j], pixels_per_cell = (10, 10), cells_per_block = (1,1))\n",
    "        dataset.append(feature)\n",
    "dataset = np.array(dataset, 'float64')        \n",
    "\n",
    "\n",
    "## Making labels for all 5k digits.\n",
    "labels = []\n",
    "for i in range(10):\n",
    "    labels += [i]*500\n",
    "    \n",
    "## Using the KNN algorithm for training.\n",
    "clf = KNeighborsClassifier()\n",
    "\n",
    "x_train, x_val, y_train, y_val = train_test_split(dataset, labels, test_size = 0.3)\n",
    "\n",
    "## Fitting the data into the classifier.\n",
    "clf.fit(x_train, y_train)\n",
    "\n",
    "## ACC Score.\n",
    "print('Accuracy Score', accuracy_score(clf.predict(x_val), y_val))\n",
    "\n",
    "## saving the classifier.\n",
    "joblib.dump(clf, '/home/aakash/opencv-4/digit_classifier_knn.model')"
   ]
  },
  {
   "cell_type": "code",
   "execution_count": 3,
   "metadata": {},
   "outputs": [],
   "source": [
    "def load(model):\n",
    "    return joblib.load(model)\n",
    "\n",
    "def b_box(cnts):\n",
    "    # get the counding rectangles.\n",
    "    bounding_boxes = [cv2.boundingRect(c) for c in cnts if cv2.contourArea(c) > 300]\n",
    "    # sort them left to right\n",
    "    return sorted(bounding_boxes, key=lambda box: box[0])"
   ]
  },
  {
   "cell_type": "code",
   "execution_count": 4,
   "metadata": {},
   "outputs": [],
   "source": [
    "def predict_digit(rect, img_thresh, clf):\n",
    "    x,y,w,h = rect\n",
    "    \n",
    "    # expand the rectangle for better recognition.\n",
    "    x = x - 10\n",
    "    y -= 10\n",
    "    w += 20\n",
    "    h += 20\n",
    "    \n",
    "    roi = img_thresh[y:y+h, x:x+w]\n",
    "    \n",
    "    # resize the image of interest to (20,20)\n",
    "    roi = cv2.resize(roi, (20,20), interpolation = cv2.INTER_AREA)\n",
    "    roi = cv2.dilate(roi, (3, 3))\n",
    "    \n",
    "    feature = hog(roi, pixels_per_cell = (10, 10), cells_per_block = (1,1))\n",
    "    digit = clf.predict([feature])\n",
    "    return digit[0]"
   ]
  },
  {
   "cell_type": "code",
   "execution_count": 5,
   "metadata": {},
   "outputs": [],
   "source": [
    "def perform_ocr(img, clf, write=True):\n",
    "    ## preprocessing of the image.\n",
    "    img_gray = cv2.cvtColor(img, cv2.COLOR_BGR2GRAY)\n",
    "    img_gray_blur = cv2.GaussianBlur(img_gray, (5, 5), 0)\n",
    "    _, img_thresh = cv2.threshold(img_gray_blur, 90, 255, cv2.THRESH_BINARY_INV)\n",
    "    \n",
    "    # find the contours of the digits\n",
    "    image, contours, _ = cv2.findContours(img_thresh, cv2.RETR_EXTERNAL, cv2.CHAIN_APPROX_SIMPLE)\n",
    "        \n",
    "    # get the bounding rectangle for each box\n",
    "    boxes = b_box(contours)\n",
    "    \n",
    "    reco = []\n",
    "    for box in boxes:\n",
    "        x,y,w,h = box\n",
    "        if write:\n",
    "            cv2.rectangle(img, (x, y), (x + w, y + h), (0, 255, 0), 2)\n",
    "        \n",
    "        # predict the digit inside each box\n",
    "        digit = str(predict_digit(box, img_thresh, clf))\n",
    "        reco.append(digit)\n",
    "        \n",
    "        # writing the recognized digit on image..\n",
    "        if write:\n",
    "            font = cv2.FONT_HERSHEY_SIMPLEX\n",
    "            cv2.putText(img, digit, (x, y), font, 0.8, (255, 0, 0), 2)\n",
    "\n",
    "    return reco"
   ]
  },
  {
   "cell_type": "code",
   "execution_count": null,
   "metadata": {},
   "outputs": [
    {
     "name": "stderr",
     "output_type": "stream",
     "text": [
      "/home/aakash/miniconda3/envs/datapysci/lib/python3.6/site-packages/skimage/feature/_hog.py:119: skimage_deprecation: Default value of `block_norm`==`L1` is deprecated and will be changed to `L2-Hys` in v0.15\n",
      "  'be changed to `L2-Hys` in v0.15', skimage_deprecation)\n"
     ]
    }
   ],
   "source": [
    "## Live Testing \n",
    "img = cv2.imread('/home/aakash/opencv-4/OCR_images/2.jpg')\n",
    "digits = perform_ocr(img, clf)\n",
    "\n",
    "# making up the final number,\n",
    "num = int(''.join(digits))\n",
    "sqr = num**2\n",
    "\n",
    "## Displying the information..\n",
    "font = cv2.FONT_HERSHEY_SIMPLEX\n",
    "cv2.putText(img, 'sqr({}) = {}'.format(num, sqr), (0, 40), font, 1, (255, 255, 0), 2)\n",
    "\n",
    "cv2.imshow('Digits', img)\n",
    "cv2.waitKey(0)"
   ]
  }
 ],
 "metadata": {
  "kernelspec": {
   "display_name": "Python 3",
   "language": "python",
   "name": "python3"
  },
  "language_info": {
   "codemirror_mode": {
    "name": "ipython",
    "version": 3
   },
   "file_extension": ".py",
   "mimetype": "text/x-python",
   "name": "python",
   "nbconvert_exporter": "python",
   "pygments_lexer": "ipython3",
   "version": "3.6.4"
  }
 },
 "nbformat": 4,
 "nbformat_minor": 2
}
